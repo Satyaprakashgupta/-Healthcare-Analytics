{
  "nbformat": 4,
  "nbformat_minor": 0,
  "metadata": {
    "colab": {
      "provenance": []
    },
    "kernelspec": {
      "name": "python3",
      "display_name": "Python 3"
    },
    "language_info": {
      "name": "python"
    }
  },
  "cells": [
    {
      "cell_type": "markdown",
      "source": [
        "**Name** : Satyaprakash Gupta\n",
        "**Email id** : satyaprakashgupta9975@gmail.com"
      ],
      "metadata": {
        "id": "h0kB-e6qyxsS"
      }
    },
    {
      "cell_type": "code",
      "source": [
        "!pip install q kaggle"
      ],
      "metadata": {
        "colab": {
          "base_uri": "https://localhost:8080/"
        },
        "id": "52BoFPxFLyeU",
        "outputId": "328c7f4c-a7a2-4815-82f3-eba8ebfe8b0d"
      },
      "execution_count": null,
      "outputs": [
        {
          "output_type": "stream",
          "name": "stdout",
          "text": [
            "Collecting q\n",
            "  Downloading q-2.7-py2.py3-none-any.whl (10 kB)\n",
            "Requirement already satisfied: kaggle in /usr/local/lib/python3.10/dist-packages (1.5.16)\n",
            "Requirement already satisfied: six>=1.10 in /usr/local/lib/python3.10/dist-packages (from kaggle) (1.16.0)\n",
            "Requirement already satisfied: certifi in /usr/local/lib/python3.10/dist-packages (from kaggle) (2023.7.22)\n",
            "Requirement already satisfied: python-dateutil in /usr/local/lib/python3.10/dist-packages (from kaggle) (2.8.2)\n",
            "Requirement already satisfied: requests in /usr/local/lib/python3.10/dist-packages (from kaggle) (2.31.0)\n",
            "Requirement already satisfied: tqdm in /usr/local/lib/python3.10/dist-packages (from kaggle) (4.66.1)\n",
            "Requirement already satisfied: python-slugify in /usr/local/lib/python3.10/dist-packages (from kaggle) (8.0.1)\n",
            "Requirement already satisfied: urllib3 in /usr/local/lib/python3.10/dist-packages (from kaggle) (2.0.7)\n",
            "Requirement already satisfied: bleach in /usr/local/lib/python3.10/dist-packages (from kaggle) (6.1.0)\n",
            "Requirement already satisfied: webencodings in /usr/local/lib/python3.10/dist-packages (from bleach->kaggle) (0.5.1)\n",
            "Requirement already satisfied: text-unidecode>=1.3 in /usr/local/lib/python3.10/dist-packages (from python-slugify->kaggle) (1.3)\n",
            "Requirement already satisfied: charset-normalizer<4,>=2 in /usr/local/lib/python3.10/dist-packages (from requests->kaggle) (3.3.0)\n",
            "Requirement already satisfied: idna<4,>=2.5 in /usr/local/lib/python3.10/dist-packages (from requests->kaggle) (3.4)\n",
            "Installing collected packages: q\n",
            "Successfully installed q-2.7\n"
          ]
        }
      ]
    },
    {
      "cell_type": "code",
      "source": [
        "from google.colab import files\n",
        "import pandas as pd\n",
        "import numpy as np\n",
        "from google.colab import autoviz\n",
        "import seaborn as sns"
      ],
      "metadata": {
        "id": "v6bc9aM0MkXB"
      },
      "execution_count": null,
      "outputs": []
    },
    {
      "cell_type": "code",
      "source": [
        "files.upload()"
      ],
      "metadata": {
        "colab": {
          "base_uri": "https://localhost:8080/",
          "height": 108
        },
        "id": "ja_3qk0qMpw1",
        "outputId": "e8d00cbf-4fdd-4e8f-d880-7f671b792960"
      },
      "execution_count": null,
      "outputs": [
        {
          "output_type": "display_data",
          "data": {
            "text/plain": [
              "<IPython.core.display.HTML object>"
            ],
            "text/html": [
              "\n",
              "     <input type=\"file\" id=\"files-8bf23f07-c530-492d-b85b-785b6f885ca7\" name=\"files[]\" multiple disabled\n",
              "        style=\"border:none\" />\n",
              "     <output id=\"result-8bf23f07-c530-492d-b85b-785b6f885ca7\">\n",
              "      Upload widget is only available when the cell has been executed in the\n",
              "      current browser session. Please rerun this cell to enable.\n",
              "      </output>\n",
              "      <script>// Copyright 2017 Google LLC\n",
              "//\n",
              "// Licensed under the Apache License, Version 2.0 (the \"License\");\n",
              "// you may not use this file except in compliance with the License.\n",
              "// You may obtain a copy of the License at\n",
              "//\n",
              "//      http://www.apache.org/licenses/LICENSE-2.0\n",
              "//\n",
              "// Unless required by applicable law or agreed to in writing, software\n",
              "// distributed under the License is distributed on an \"AS IS\" BASIS,\n",
              "// WITHOUT WARRANTIES OR CONDITIONS OF ANY KIND, either express or implied.\n",
              "// See the License for the specific language governing permissions and\n",
              "// limitations under the License.\n",
              "\n",
              "/**\n",
              " * @fileoverview Helpers for google.colab Python module.\n",
              " */\n",
              "(function(scope) {\n",
              "function span(text, styleAttributes = {}) {\n",
              "  const element = document.createElement('span');\n",
              "  element.textContent = text;\n",
              "  for (const key of Object.keys(styleAttributes)) {\n",
              "    element.style[key] = styleAttributes[key];\n",
              "  }\n",
              "  return element;\n",
              "}\n",
              "\n",
              "// Max number of bytes which will be uploaded at a time.\n",
              "const MAX_PAYLOAD_SIZE = 100 * 1024;\n",
              "\n",
              "function _uploadFiles(inputId, outputId) {\n",
              "  const steps = uploadFilesStep(inputId, outputId);\n",
              "  const outputElement = document.getElementById(outputId);\n",
              "  // Cache steps on the outputElement to make it available for the next call\n",
              "  // to uploadFilesContinue from Python.\n",
              "  outputElement.steps = steps;\n",
              "\n",
              "  return _uploadFilesContinue(outputId);\n",
              "}\n",
              "\n",
              "// This is roughly an async generator (not supported in the browser yet),\n",
              "// where there are multiple asynchronous steps and the Python side is going\n",
              "// to poll for completion of each step.\n",
              "// This uses a Promise to block the python side on completion of each step,\n",
              "// then passes the result of the previous step as the input to the next step.\n",
              "function _uploadFilesContinue(outputId) {\n",
              "  const outputElement = document.getElementById(outputId);\n",
              "  const steps = outputElement.steps;\n",
              "\n",
              "  const next = steps.next(outputElement.lastPromiseValue);\n",
              "  return Promise.resolve(next.value.promise).then((value) => {\n",
              "    // Cache the last promise value to make it available to the next\n",
              "    // step of the generator.\n",
              "    outputElement.lastPromiseValue = value;\n",
              "    return next.value.response;\n",
              "  });\n",
              "}\n",
              "\n",
              "/**\n",
              " * Generator function which is called between each async step of the upload\n",
              " * process.\n",
              " * @param {string} inputId Element ID of the input file picker element.\n",
              " * @param {string} outputId Element ID of the output display.\n",
              " * @return {!Iterable<!Object>} Iterable of next steps.\n",
              " */\n",
              "function* uploadFilesStep(inputId, outputId) {\n",
              "  const inputElement = document.getElementById(inputId);\n",
              "  inputElement.disabled = false;\n",
              "\n",
              "  const outputElement = document.getElementById(outputId);\n",
              "  outputElement.innerHTML = '';\n",
              "\n",
              "  const pickedPromise = new Promise((resolve) => {\n",
              "    inputElement.addEventListener('change', (e) => {\n",
              "      resolve(e.target.files);\n",
              "    });\n",
              "  });\n",
              "\n",
              "  const cancel = document.createElement('button');\n",
              "  inputElement.parentElement.appendChild(cancel);\n",
              "  cancel.textContent = 'Cancel upload';\n",
              "  const cancelPromise = new Promise((resolve) => {\n",
              "    cancel.onclick = () => {\n",
              "      resolve(null);\n",
              "    };\n",
              "  });\n",
              "\n",
              "  // Wait for the user to pick the files.\n",
              "  const files = yield {\n",
              "    promise: Promise.race([pickedPromise, cancelPromise]),\n",
              "    response: {\n",
              "      action: 'starting',\n",
              "    }\n",
              "  };\n",
              "\n",
              "  cancel.remove();\n",
              "\n",
              "  // Disable the input element since further picks are not allowed.\n",
              "  inputElement.disabled = true;\n",
              "\n",
              "  if (!files) {\n",
              "    return {\n",
              "      response: {\n",
              "        action: 'complete',\n",
              "      }\n",
              "    };\n",
              "  }\n",
              "\n",
              "  for (const file of files) {\n",
              "    const li = document.createElement('li');\n",
              "    li.append(span(file.name, {fontWeight: 'bold'}));\n",
              "    li.append(span(\n",
              "        `(${file.type || 'n/a'}) - ${file.size} bytes, ` +\n",
              "        `last modified: ${\n",
              "            file.lastModifiedDate ? file.lastModifiedDate.toLocaleDateString() :\n",
              "                                    'n/a'} - `));\n",
              "    const percent = span('0% done');\n",
              "    li.appendChild(percent);\n",
              "\n",
              "    outputElement.appendChild(li);\n",
              "\n",
              "    const fileDataPromise = new Promise((resolve) => {\n",
              "      const reader = new FileReader();\n",
              "      reader.onload = (e) => {\n",
              "        resolve(e.target.result);\n",
              "      };\n",
              "      reader.readAsArrayBuffer(file);\n",
              "    });\n",
              "    // Wait for the data to be ready.\n",
              "    let fileData = yield {\n",
              "      promise: fileDataPromise,\n",
              "      response: {\n",
              "        action: 'continue',\n",
              "      }\n",
              "    };\n",
              "\n",
              "    // Use a chunked sending to avoid message size limits. See b/62115660.\n",
              "    let position = 0;\n",
              "    do {\n",
              "      const length = Math.min(fileData.byteLength - position, MAX_PAYLOAD_SIZE);\n",
              "      const chunk = new Uint8Array(fileData, position, length);\n",
              "      position += length;\n",
              "\n",
              "      const base64 = btoa(String.fromCharCode.apply(null, chunk));\n",
              "      yield {\n",
              "        response: {\n",
              "          action: 'append',\n",
              "          file: file.name,\n",
              "          data: base64,\n",
              "        },\n",
              "      };\n",
              "\n",
              "      let percentDone = fileData.byteLength === 0 ?\n",
              "          100 :\n",
              "          Math.round((position / fileData.byteLength) * 100);\n",
              "      percent.textContent = `${percentDone}% done`;\n",
              "\n",
              "    } while (position < fileData.byteLength);\n",
              "  }\n",
              "\n",
              "  // All done.\n",
              "  yield {\n",
              "    response: {\n",
              "      action: 'complete',\n",
              "    }\n",
              "  };\n",
              "}\n",
              "\n",
              "scope.google = scope.google || {};\n",
              "scope.google.colab = scope.google.colab || {};\n",
              "scope.google.colab._files = {\n",
              "  _uploadFiles,\n",
              "  _uploadFilesContinue,\n",
              "};\n",
              "})(self);\n",
              "</script> "
            ]
          },
          "metadata": {}
        },
        {
          "output_type": "stream",
          "name": "stdout",
          "text": [
            "Saving kaggle.json to kaggle.json\n"
          ]
        },
        {
          "output_type": "execute_result",
          "data": {
            "text/plain": [
              "{'kaggle.json': b'{\"username\":\"satyaprakashgupta\",\"key\":\"7a9ddf36a4d3697d090512525b428e40\"}'}"
            ]
          },
          "metadata": {},
          "execution_count": 25
        }
      ]
    },
    {
      "cell_type": "code",
      "source": [
        "!mkdir ~/.kaggle1"
      ],
      "metadata": {
        "id": "nCgdXhhjMtjl"
      },
      "execution_count": null,
      "outputs": []
    },
    {
      "cell_type": "code",
      "source": [
        "!cp kaggle.json ~/.kaggle/"
      ],
      "metadata": {
        "id": "hqs6ZauzMzex"
      },
      "execution_count": null,
      "outputs": []
    },
    {
      "cell_type": "code",
      "source": [
        "! chmod 600 ~/.kaggle/kaggle.json"
      ],
      "metadata": {
        "id": "bh1RjZikM-ww"
      },
      "execution_count": 29,
      "outputs": []
    },
    {
      "cell_type": "code",
      "source": [
        "! kaggle datasets list"
      ],
      "metadata": {
        "colab": {
          "base_uri": "https://localhost:8080/",
          "height": 0
        },
        "id": "Fb-f2E0INQyc",
        "outputId": "46b4fd00-e83f-442e-c74a-4cf0cf7450c3"
      },
      "execution_count": 30,
      "outputs": [
        {
          "output_type": "stream",
          "name": "stdout",
          "text": [
            "ref                                                         title                                             size  lastUpdated          downloadCount  voteCount  usabilityRating  \n",
            "----------------------------------------------------------  -----------------------------------------------  -----  -------------------  -------------  ---------  ---------------  \n",
            "iamsouravbanerjee/customer-shopping-trends-dataset          Customer Shopping Trends Dataset                 146KB  2023-10-05 06:45:37           8020        188  1.0              \n",
            "nelgiriyewithana/top-spotify-songs-2023                     Most Streamed Spotify Songs 2023                  47KB  2023-08-26 11:04:57          36365       1077  1.0              \n",
            "bkcoban/customer-transactions                               Customer Transactions                              1MB  2023-10-15 17:59:17            826         22  1.0              \n",
            "yakhyojon/tiktok                                            TikTok User Engagement Data                      794KB  2023-10-18 01:21:10            648         26  1.0              \n",
            "nelgiriyewithana/billionaires-statistics-dataset            Billionaires Statistics Dataset (2023)           139KB  2023-09-29 13:39:28           4353        121  1.0              \n",
            "nelgiriyewithana/credit-card-fraud-detection-dataset-2023   Credit Card Fraud Detection Dataset 2023         143MB  2023-09-18 10:00:19           6816        219  1.0              \n",
            "muhammadawaistayyab/amazon-movies-and-films                 Amazon- Movies and Films                          92KB  2023-10-15 01:42:04           1028         39  1.0              \n",
            "anshtanwar/monthly-food-price-estimates                     Global Food Price Inflation                       44MB  2023-10-08 05:22:42           2564         62  1.0              \n",
            "redpen12/mobile-phone-market-in-ghana                       Mobile Phone Market in Ghana                      49KB  2023-10-18 10:33:10            340         27  1.0              \n",
            "teamincribo/cyber-security-attacks                          Cyber Security Attacks                             5MB  2023-10-14 14:12:52            838         28  0.9411765        \n",
            "iamsouravbanerjee/heart-attack-prediction-dataset           Heart Attack Risk Prediction Dataset             519KB  2023-09-27 07:07:50           3615         80  1.0              \n",
            "rajatsurana979/hotel-reservation-data-repository            Hotel Reservation Data Repository                  4MB  2023-10-17 04:02:28            272         29  1.0              \n",
            "willianoliveiragibin/electric-vehicle-population            Electric Vehicle Population                        5MB  2023-10-13 20:08:40            846         29  1.0              \n",
            "iamsouravbanerjee/cars-dataset                              Cars Dataset                                     571KB  2023-10-17 05:58:29            764         29  1.0              \n",
            "sujaykapadnis/horror-movies-profits-dataset                 Horror Movies - the best Hollywood Investments?  102KB  2023-10-14 04:09:38            527         24  1.0              \n",
            "willianoliveiragibin/10000-data-about-movies-1915-2023      10,000 Data  about movies (1915 - 2023)            1MB  2023-10-11 19:31:12           1457         39  1.0              \n",
            "sujaykapadnis/spotify-songs                                 spotify songs                                      3MB  2023-10-17 09:17:20            602         23  1.0              \n",
            "willianoliveiragibin/fatalities-in-the-israeli-palestinian  Fatalities in the Israeli-Palestinian            463KB  2023-10-10 19:02:21            996         54  1.0              \n",
            "asaniczka/wages-by-education-in-the-usa-1973-2022           Wages by Education in the USA (1973-2022)          7KB  2023-10-09 09:43:40           1682         49  1.0              \n",
            "uom190346a/health-and-demographics-dataset                  Health and Demographics Dataset                   75KB  2023-10-18 07:53:14           1131         23  1.0              \n"
          ]
        }
      ]
    },
    {
      "cell_type": "code",
      "source": [
        "!kaggle datasets download -d hhs/health-insurance-marketplace"
      ],
      "metadata": {
        "colab": {
          "base_uri": "https://localhost:8080/",
          "height": 0
        },
        "id": "bZI06_qDNTnT",
        "outputId": "402f435f-63e3-470f-9b14-a106edf79c20"
      },
      "execution_count": 31,
      "outputs": [
        {
          "output_type": "stream",
          "name": "stdout",
          "text": [
            "Downloading health-insurance-marketplace.zip to /content\n",
            " 99% 817M/829M [00:11<00:00, 105MB/s]\n",
            "100% 829M/829M [00:11<00:00, 76.9MB/s]\n"
          ]
        }
      ]
    },
    {
      "cell_type": "code",
      "source": [
        "!unzip health-insurance-marketplace.zip -d data/"
      ],
      "metadata": {
        "colab": {
          "base_uri": "https://localhost:8080/",
          "height": 0
        },
        "id": "ld9JLLf7NvWQ",
        "outputId": "da090506-8a19-4c36-a8ca-97609872132d"
      },
      "execution_count": 32,
      "outputs": [
        {
          "output_type": "stream",
          "name": "stdout",
          "text": [
            "Archive:  health-insurance-marketplace.zip\n",
            "  inflating: data/BenefitsCostSharing.csv  \n",
            "  inflating: data/BusinessRules.csv  \n",
            "  inflating: data/Crosswalk2015.csv  \n",
            "  inflating: data/Crosswalk2016.csv  \n",
            "  inflating: data/Network.csv        \n",
            "  inflating: data/PlanAttributes.csv  \n",
            "  inflating: data/Rate.csv           \n",
            "  inflating: data/ServiceArea.csv    \n",
            "  inflating: data/database.sqlite    \n",
            "  inflating: data/hashes.txt         \n",
            "  inflating: data/raw/._.sentinel    \n",
            "  inflating: data/raw/._2014         \n",
            "  inflating: data/raw/._2015         \n",
            "  inflating: data/raw/._2016         \n",
            "  inflating: data/raw/._Benefits_Cost_Sharing_PUF.csv  \n",
            "  inflating: data/raw/._Benefits_Cost_Sharing_PUF_2015-12-08.csv  \n",
            "  inflating: data/raw/._Business_Rules_PUF.csv  \n",
            "  inflating: data/raw/._Business_Rules_PUF_2015-12-08.csv  \n",
            "  inflating: data/raw/._Business_Rules_PUF_Reformat.csv  \n",
            "  inflating: data/raw/._Machine_Readable_PUF_2015-12-21.xlsx  \n",
            "  inflating: data/raw/._Network_PUF.csv  \n",
            "  inflating: data/raw/._Network_PUF_2015-12-08.csv  \n",
            "  inflating: data/raw/._Plan_Attributes_PUF.csv  \n",
            "  inflating: data/raw/._Plan_Attributes_PUF_2014_2015-03-09.csv  \n",
            "  inflating: data/raw/._Plan_Attributes_PUF_2015-12-08.csv  \n",
            "  inflating: data/raw/._Plan_Crosswalk_PUF_2014-12-22.csv  \n",
            "  inflating: data/raw/._Plan_ID_Crosswalk_PUF_2015-12-07.CSV  \n",
            "  inflating: data/raw/._Rate_PUF.csv  \n",
            "  inflating: data/raw/._Rate_PUF_2015-12-08.csv  \n",
            "  inflating: data/raw/._ServiceArea_PUF_2015-12-08.csv  \n",
            "  inflating: data/raw/._Service_Area_PUF.csv  \n",
            "  inflating: data/raw/.sentinel      \n",
            "  inflating: data/raw/2014/.sentinel  \n",
            "  inflating: data/raw/2014/Benefits_Cost_Sharing_PUF.csv  \n",
            "  inflating: data/raw/2014/Business_Rules_PUF.csv  \n",
            "  inflating: data/raw/2014/Network_PUF.csv  \n",
            "  inflating: data/raw/2014/Plan_Attributes_PUF_2014_2015-03-09.csv  \n",
            "  inflating: data/raw/2014/Rate_PUF.csv  \n",
            "  inflating: data/raw/2014/Service_Area_PUF.csv  \n",
            "  inflating: data/raw/2015/.sentinel  \n",
            "  inflating: data/raw/2015/Benefits_Cost_Sharing_PUF.csv  \n",
            "  inflating: data/raw/2015/Business_Rules_PUF_Reformat.csv  \n",
            "  inflating: data/raw/2015/Network_PUF.csv  \n",
            "  inflating: data/raw/2015/Plan_Attributes_PUF.csv  \n",
            "  inflating: data/raw/2015/Plan_Crosswalk_PUF_2014-12-22.csv  \n",
            "  inflating: data/raw/2015/Rate_PUF.csv  \n",
            "  inflating: data/raw/2015/Service_Area_PUF.csv  \n",
            "  inflating: data/raw/2016/.sentinel  \n",
            "  inflating: data/raw/2016/Benefits_Cost_Sharing_PUF_2015-12-08.csv  \n",
            "  inflating: data/raw/2016/Business_Rules_PUF_2015-12-08.csv  \n",
            "  inflating: data/raw/2016/Machine_Readable_PUF_2015-12-21.xlsx  \n",
            "  inflating: data/raw/2016/Network_PUF_2015-12-08.csv  \n",
            "  inflating: data/raw/2016/Plan_Attributes_PUF_2015-12-08.csv  \n",
            "  inflating: data/raw/2016/Plan_ID_Crosswalk_PUF_2015-12-07.CSV  \n",
            "  inflating: data/raw/2016/Rate_PUF_2015-12-08.csv  \n",
            "  inflating: data/raw/2016/ServiceArea_PUF_2015-12-08.csv  \n",
            "  inflating: data/raw/Benefits_Cost_Sharing_PUF.csv  \n",
            "  inflating: data/raw/Benefits_Cost_Sharing_PUF_2015-12-08.csv  \n",
            "  inflating: data/raw/Business_Rules_PUF.csv  \n",
            "  inflating: data/raw/Business_Rules_PUF_2015-12-08.csv  \n",
            "  inflating: data/raw/Business_Rules_PUF_Reformat.csv  \n",
            "  inflating: data/raw/Machine_Readable_PUF_2015-12-21.xlsx  \n",
            "  inflating: data/raw/Network_PUF.csv  \n",
            "  inflating: data/raw/Network_PUF_2015-12-08.csv  \n",
            "  inflating: data/raw/Plan_Attributes_PUF.csv  \n",
            "  inflating: data/raw/Plan_Attributes_PUF_2014_2015-03-09.csv  \n",
            "  inflating: data/raw/Plan_Attributes_PUF_2015-12-08.csv  \n",
            "  inflating: data/raw/Plan_Crosswalk_PUF_2014-12-22.csv  \n",
            "  inflating: data/raw/Plan_ID_Crosswalk_PUF_2015-12-07.CSV  \n",
            "  inflating: data/raw/Rate_PUF.csv   \n",
            "  inflating: data/raw/Rate_PUF_2015-12-08.csv  \n",
            "  inflating: data/raw/ServiceArea_PUF_2015-12-08.csv  \n",
            "  inflating: data/raw/Service_Area_PUF.csv  \n"
          ]
        }
      ]
    },
    {
      "cell_type": "code",
      "source": [
        "display(dbutils.fs.ls('file:/databricks/driver/data/'))"
      ],
      "metadata": {
        "id": "vSto7f_KcRb1"
      },
      "execution_count": null,
      "outputs": []
    },
    {
      "cell_type": "code",
      "source": [
        "source = 'file:/databricks/driver/data/'\n",
        "target = '/mnt/data/'\n",
        "\n",
        "dbutils.fs.cp(source, target, recurse=True)"
      ],
      "metadata": {
        "id": "nsmm0oZUx2yN"
      },
      "execution_count": null,
      "outputs": []
    },
    {
      "cell_type": "code",
      "source": [
        "dbutils.fs.refreshMounts()"
      ],
      "metadata": {
        "id": "7Dswq9kwx473"
      },
      "execution_count": null,
      "outputs": []
    },
    {
      "cell_type": "code",
      "source": [
        "from pyspark.sql import SparkSession\n",
        "from pyspark.sql.functions import when, col, mean, round, expr\n",
        "spark = SparkSession.builder.appName(\"health\").getOrCreate()"
      ],
      "metadata": {
        "id": "GRhbmWfKx7sF"
      },
      "execution_count": null,
      "outputs": []
    },
    {
      "cell_type": "code",
      "source": [
        "data = spark.read.csv(\"/mnt/data/Rate.csv\", header=True, inferSchema=True)\n",
        "data = data.select(\"Year\", \"InsurancePlanID\", \"PolicyAge\", \"PolicyRate\")\n",
        "\n",
        "data_filtered = data.filter(col('PolicyAge') != 'Family Option')\n",
        "\n",
        "condition_child = (data_filtered['PolicyAge'] == '0-20')\n",
        "condition_adult = (data_filtered['PolicyAge'] != '0-20')\n",
        "\n",
        "data_filtered = data_filtered.withColumn('AgeGroup', when(condition_child, 'Young').when(condition_adult, 'Older').otherwise(None))\n",
        "\n",
        "result = data_filtered.groupBy('Year', 'InsurancePlanID', 'AgeGroup') \\\n",
        "                 .agg(round(mean('PolicyRate'), 2).alias('AverageRate')) \\\n",
        "                 .fillna({'AgeGroup': 'All'}).fillna({'AverageRate': 0})\n",
        "\n",
        "result.show()"
      ],
      "metadata": {
        "id": "MCqfTAQox9Uo"
      },
      "execution_count": null,
      "outputs": []
    },
    {
      "cell_type": "code",
      "source": [
        "import re\n",
        "from pyspark.sql.types import StringType"
      ],
      "metadata": {
        "id": "r9BWEwXrx_Sr"
      },
      "execution_count": null,
      "outputs": []
    },
    {
      "cell_type": "code",
      "source": [
        "def categorize_age_group(text_data):\n",
        "    child_match_found = re.search(r'Child', text_data, re.IGNORECASE)\n",
        "    adult_match_found = re.search(r'Adult', text_data, re.IGNORECASE)\n",
        "\n",
        "    if child_match_found and not adult_match_found:\n",
        "        return 'AgeGroup: Child'\n",
        "    elif adult_match_found and not child_match_found:\n",
        "        return 'AgeGroup: Adult'\n",
        "    else:\n",
        "        return 'AgeGroup: Unknown'\n",
        "\n",
        "insurance_records = spark.read.csv('/mnt/data/BenefitsCostSharing.csv', header=True, inferSchema=True)\n",
        "insurance_records = insurance_records.select(\"CoverageBenefitName\", \"PolicyYear\", \"PolicyIdentifier\", \"LocationCode\")\n",
        "\n",
        "insurance_records = insurance_records.withColumn(\"PolicyIdentifier\", expr(\"substring(PolicyIdentifier, 1, length(PolicyIdentifier)-3)\"))\n",
        "\n",
        "categorize_age_group_udf = udf(categorize_age_group, StringType())\n",
        "insurance_records = insurance_records.withColumn(\"AgeGroupCategory\", categorize_age_group_udf(insurance_records[\"CoverageBenefitName\"]))\n",
        "insurance_records = insurance_records.na.drop()\n",
        "\n",
        "merged_insurance_data = insurance_records.join(rate_pivot, on=['PolicyYear', 'PolicyIdentifier', 'AgeGroupCategory'], how='left')\n",
        "merged_insurance_data = merged_insurance_data.withColumnRenamed(\"AverageRate\", \"PolicyAverageRate\")\n",
        "merged_insurance_data = merged_insurance_data.fillna(0, subset=['PolicyAverageRate'])\n",
        "\n",
        "merged_insurance_data.show()"
      ],
      "metadata": {
        "id": "YY5or3yCyBAL"
      },
      "execution_count": null,
      "outputs": []
    },
    {
      "cell_type": "code",
      "source": [
        "!mkdir transformed"
      ],
      "metadata": {
        "id": "qNxmUCeYyECP"
      },
      "execution_count": null,
      "outputs": []
    },
    {
      "cell_type": "code",
      "source": [
        "final_data = merged_data.repartition(1)\n",
        "final_data.write.csv('file:/databricks/driver/transformed/final.csv', header=True, mode='overwrite')"
      ],
      "metadata": {
        "id": "HnHLi7v7yIK9"
      },
      "execution_count": null,
      "outputs": []
    },
    {
      "cell_type": "code",
      "source": [
        "display(dbutils.fs.ls('file:/databricks/driver/transformed/final.csv/'))"
      ],
      "metadata": {
        "id": "5ayiPKA8yLH4"
      },
      "execution_count": null,
      "outputs": []
    },
    {
      "cell_type": "code",
      "source": [
        "source = 'file:/databricks/driver/transformed/'\n",
        "target = '/mnt/transformed/'\n",
        "\n",
        "dbutils.fs.cp(source, target, recurse=True)"
      ],
      "metadata": {
        "id": "AoU4uHYQyMUo"
      },
      "execution_count": null,
      "outputs": []
    },
    {
      "cell_type": "code",
      "source": [
        "dbutils.fs.refreshMounts()"
      ],
      "metadata": {
        "id": "RFh2UqseyOgQ"
      },
      "execution_count": null,
      "outputs": []
    },
    {
      "cell_type": "code",
      "source": [
        "display(dbutils.fs.ls('/mnt/transformed/final.csv/'))"
      ],
      "metadata": {
        "id": "kId8pi3byQC2"
      },
      "execution_count": null,
      "outputs": []
    },
    {
      "cell_type": "code",
      "source": [
        "from pyspark.sql import SparkSession\n",
        "spark = SparkSession.builder.appName(\"health\").getOrCreate()\n",
        "\n",
        "directory_path = '/mnt/transformed/final.csv/'\n",
        "\n",
        "files = dbutils.fs.ls(directory_path)\n",
        "\n",
        "csv_files = [file for file in files if file.name.endswith('.csv')]\n",
        "\n",
        "file_path = directory_path + csv_files[0].name\n",
        "\n",
        "print(file_path)"
      ],
      "metadata": {
        "id": "eWkCvy52yTvo"
      },
      "execution_count": null,
      "outputs": []
    }
  ]
}